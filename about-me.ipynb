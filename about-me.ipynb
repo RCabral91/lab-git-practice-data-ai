{
 "cells": [
  {
   "cell_type": "markdown",
   "metadata": {},
   "source": [
    "## About Me Lab: AI Engineering, Data Analytics & Data Science\n",
    "\n",
    "In this notebook, you'll write a short introduction about yourself using Python!\n",
    "\n",
    "### Instructions:\n",
    "- Fill in the variables below with your details.\n",
    "- Run the cell to print your introduction.\n",
    "\n",
    "### What to Include:\n",
    "- Your name.\n",
    "- Why you're interested in AI Engineering, Data Analytics or Data Science.\n",
    "- A fun fact about yourself or a goal for this course.\n"
   ]
  },
  {
   "cell_type": "code",
   "execution_count": 4,
   "metadata": {},
   "outputs": [
    {
     "name": "stdout",
     "output_type": "stream",
     "text": [
      "Hi! My name is Rafael Aparício da Silva Cabral. I’m excited to learn because since I started working as an Occupational Safety Technician, I've always wanted the information shared in meetings to be understood in the best possible way. That’s why I used to create more visual presentations to make the topics easier to understand. In the field of data analysis, I see an opportunity to do this on an even larger scale: transforming information from countless spreadsheets into visual and impactful presentations that can influence decisions and add value to businesses. My goal for this course is: to change careers and provide a better life for my son.\n"
     ]
    }
   ],
   "source": [
    "# About Me\n",
    "# Please fill in the following details.\n",
    "\n",
    "name = \"Rafael Aparício da Silva Cabral\"\n",
    "reason = \"since I started working as an Occupational Safety Technician, I've always wanted the information shared in meetings to be understood in the best possible way. That’s why I used to create more visual presentations to make the topics easier to understand. In the field of data analysis, I see an opportunity to do this on an even larger scale: transforming information from countless spreadsheets into visual and impactful presentations that can influence decisions and add value to businesses\"\n",
    "fun_fact = \"to change careers and provide a better life for my son\"\n",
    "\n",
    "print(f\"Hi! My name is {name}. I’m excited to learn because {reason}. My goal for this course is: {fun_fact}.\")"
   ]
  },
  {
   "cell_type": "code",
   "execution_count": null,
   "metadata": {},
   "outputs": [],
   "source": []
  }
 ],
 "metadata": {
  "kernelspec": {
   "display_name": "Python 3",
   "language": "python",
   "name": "python3"
  },
  "language_info": {
   "codemirror_mode": {
    "name": "ipython",
    "version": 3
   },
   "file_extension": ".py",
   "mimetype": "text/x-python",
   "name": "python",
   "nbconvert_exporter": "python",
   "pygments_lexer": "ipython3",
   "version": "3.11.7"
  }
 },
 "nbformat": 4,
 "nbformat_minor": 4
}
